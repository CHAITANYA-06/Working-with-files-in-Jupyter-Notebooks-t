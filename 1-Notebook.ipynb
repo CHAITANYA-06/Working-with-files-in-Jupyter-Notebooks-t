{
  "metadata": {
    "kernelspec": {
      "name": "python",
      "display_name": "Python (Pyodide)",
      "language": "python"
    },
    "language_info": {
      "codemirror_mode": {
        "name": "python",
        "version": 3
      },
      "file_extension": ".py",
      "mimetype": "text/x-python",
      "name": "python",
      "nbconvert_exporter": "python",
      "pygments_lexer": "ipython3",
      "version": "3.8"
    }
  },
  "nbformat_minor": 4,
  "nbformat": 4,
  "cells": [
    {
      "cell_type": "markdown",
      "source": "# Data Science Tools and Ecosystem",
      "metadata": {}
    },
    {
      "cell_type": "markdown",
      "source": "### In this notebook, Data Science Tools and Ecosystem are summarized.",
      "metadata": {}
    },
    {
      "cell_type": "markdown",
      "source": "# Some of the popular languages that Data Scientists use are:\n",
      "metadata": {}
    },
    {
      "cell_type": "markdown",
      "source": "1.Pyton\n2.R\n3.SQL\n4.Scala\n5.Java\n6.C++\n7.Php\n8.Go\n9.Ruby ",
      "metadata": {}
    },
    {
      "cell_type": "markdown",
      "source": "# Some of the commonly used libraries used by Data Scientists include:",
      "metadata": {}
    },
    {
      "cell_type": "markdown",
      "source": "1.Pandas\n2.Numpy\n3.Matplotlib\n4.Skicit-learn\n5.Seaborn\n6.Keras\n7.TensorFlow\n8.PyTorch\n9.Apache Spark",
      "metadata": {}
    },
    {
      "cell_type": "markdown",
      "source": "# Data Science Tools:",
      "metadata": {}
    },
    {
      "cell_type": "markdown",
      "source": "1.Jupyter Notebook",
      "metadata": {}
    },
    {
      "cell_type": "markdown",
      "source": "2.RStudio",
      "metadata": {}
    },
    {
      "cell_type": "markdown",
      "source": "3.Apache Zeppelin",
      "metadata": {}
    },
    {
      "cell_type": "markdown",
      "source": "#  Below are a few examples of evaluating arithmetic expressions in Python",
      "metadata": {}
    },
    {
      "cell_type": "raw",
      "source": "5 + 3 (Addition)",
      "metadata": {}
    },
    {
      "cell_type": "markdown",
      "source": "10 - 2 (Subtraction)",
      "metadata": {}
    },
    {
      "cell_type": "markdown",
      "source": "###   This a simple arithmetic expression to mutiply then add integers",
      "metadata": {}
    },
    {
      "cell_type": "code",
      "source": "(3*4)+5",
      "metadata": {
        "trusted": true
      },
      "outputs": [
        {
          "execution_count": 1,
          "output_type": "execute_result",
          "data": {
            "text/plain": "17"
          },
          "metadata": {}
        }
      ],
      "execution_count": 1
    },
    {
      "cell_type": "markdown",
      "source": "### This will convert 200 minutes to hours by diving by 60\n",
      "metadata": {}
    },
    {
      "cell_type": "code",
      "source": "200/60",
      "metadata": {
        "trusted": true
      },
      "outputs": [
        {
          "execution_count": 2,
          "output_type": "execute_result",
          "data": {
            "text/plain": "3.3333333333333335"
          },
          "metadata": {}
        }
      ],
      "execution_count": 2
    },
    {
      "cell_type": "markdown",
      "source": "# Objectives:\n ",
      "metadata": {}
    },
    {
      "cell_type": "raw",
      "source": "1.List popular languages for Data Science\n2.Data Science tools\n3.Libriaries used by Data Scientist\n",
      "metadata": {}
    },
    {
      "cell_type": "markdown",
      "source": "## Author(s)",
      "metadata": {}
    },
    {
      "cell_type": "raw",
      "source": "Y Chaitanya",
      "metadata": {}
    }
  ]
}
